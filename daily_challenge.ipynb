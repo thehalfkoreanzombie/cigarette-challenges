{
 "cells": [
  {
   "cell_type": "markdown",
   "metadata": {},
   "source": [
    "Monday, 10/30/23\n",
    "\n",
    "Running this code:\n",
    "\n",
    "crickets = Ringtone(\"chirp\", 5)\n",
    "crickets.ring()\n",
    "\n",
    "payphone = Ringtone(\"brrrring\", 2)\n",
    "payphone.ring()\n",
    "\n",
    "…prints these values:\n",
    "\n",
    "chirp chirp chirp chirp chirp \n",
    "\n",
    "brrrring brrrring"
   ]
  },
  {
   "cell_type": "code",
   "execution_count": 18,
   "metadata": {},
   "outputs": [
    {
     "name": "stdout",
     "output_type": "stream",
     "text": [
      "chirp chirp chirp chirp chirp \n",
      "Brrring Brrring \n"
     ]
    }
   ],
   "source": [
    "class Ringtone:\n",
    "    \"\"\"Creating a ringtone class with 'sound' and 'amount' as attributes\n",
    "    \n",
    "    \"\"\"\n",
    "    #Establishing class attributes\n",
    "    def __init__(self, sound, amount):\n",
    "        self.sound = sound\n",
    "        self.amount = amount \n",
    "    #Establishing 'ring' method\n",
    "    def ring(self) -> None:\n",
    "        for _ in range(0, self.amount):\n",
    "            print(f\"{self.sound}\", end=\" \")\n",
    "        print()\n",
    "\n",
    "crickets = Ringtone(\"chirp\", 5)\n",
    "crickets.ring()\n",
    "\n",
    "payphone = Ringtone(\"Brrring\", 2)\n",
    "payphone.ring()\n",
    "\n",
    "\n",
    "\n",
    "\n"
   ]
  },
  {
   "cell_type": "markdown",
   "metadata": {},
   "source": [
    "Tuesday 10/31/23\n",
    "\n",
    "Given this dictionary:\n",
    "\n",
    "costumes = {\"hero\": \"catwoman\", \"monster\": \"vampire\", \"cute_animal\": \"bunny\"}\n",
    "\n",
    "Change the value for \"cute_animal\" to \"turtle\""
   ]
  },
  {
   "cell_type": "code",
   "execution_count": 8,
   "metadata": {},
   "outputs": [
    {
     "name": "stdout",
     "output_type": "stream",
     "text": [
      "{'hero': 'catwoman', 'monster': 'vampire', 'cute_animal': 'turtle', 'celebrity': 'weird al'}\n"
     ]
    }
   ],
   "source": [
    "#Given this dictionary:\n",
    "costumes = {\"hero\": \"catwoman\", \"monster\": \"vampire\", \"cute_animal\": \"bunny\"}\n",
    "\n",
    "#Change the value for \"cute_animal\" to \"turtle\"\n",
    "costumes[\"cute_animal\"] = \"turtle\"\n",
    "costumes[\"celebrity\"] = \"weird al\"\n",
    "print(costumes)"
   ]
  },
  {
   "cell_type": "markdown",
   "metadata": {},
   "source": [
    "Use ‘range()’ with a ‘for’ loop to print the numbers 0-5"
   ]
  },
  {
   "cell_type": "code",
   "execution_count": 1,
   "metadata": {},
   "outputs": [
    {
     "name": "stdout",
     "output_type": "stream",
     "text": [
      "0\n",
      "1\n",
      "2\n",
      "3\n",
      "4\n",
      "5\n"
     ]
    }
   ],
   "source": [
    "#for length in range(0,6):\n",
    "    #print(length)\n",
    "\n",
    "def range_func(num):\n",
    "    \"\"\"Use range() with a for loop to print the numbers 0-5\"\"\"\n",
    "    for length in range(0, num + 1):\n",
    "        print(length)\n",
    "\n",
    "range_func(5)"
   ]
  },
  {
   "cell_type": "markdown",
   "metadata": {},
   "source": [
    "Remove the duplicate values from this list:\n",
    "\n",
    "ocean_animals = [\"whale\", \"tuna\", \"dolphin\", \"dolphin\", \"tuna\"]\n",
    "\n",
    "Either change `ocean_animals` or create a new list.\n",
    "Expected output: `['tuna', 'whale', 'dolphin']"
   ]
  },
  {
   "cell_type": "code",
   "execution_count": 14,
   "metadata": {},
   "outputs": [
    {
     "data": {
      "text/plain": [
       "['whale', 'tuna', 'dolphin']"
      ]
     },
     "execution_count": 14,
     "metadata": {},
     "output_type": "execute_result"
    }
   ],
   "source": [
    "#Remove the duplicate values from this list:\n",
    "ocean_animals = [\"whale\", \"tuna\", \"dolphin\", \"dolphin\", \"tuna\"]\n",
    "def remove_dup(list):\n",
    "    animal_no_dup = []\n",
    "    for i in list:\n",
    "        if i not in animal_no_dup:\n",
    "            animal_no_dup.append(i)\n",
    "    return animal_no_dup\n",
    "            \n",
    "\n",
    "remove_dup(ocean_animals)\n",
    "        \n"
   ]
  },
  {
   "cell_type": "code",
   "execution_count": 6,
   "metadata": {},
   "outputs": [
    {
     "name": "stdout",
     "output_type": "stream",
     "text": [
      "{'whale', 'dolphin', 'tuna'}\n"
     ]
    }
   ],
   "source": [
    "ocean_animals = [\"whale\", \"tuna\", \"dolphin\", \"dolphin\", \"tuna\"]\n",
    "sports = [\"tennis\", \"tennis\", \"basketball\", \"baseball\", \"soccer\", \"basketball\", \"lacrosse\"]\n",
    "#Remove the duplicate values from this list:\n",
    "def remove_dup_list(list1):\n",
    "    \"\"\"Function to remove duplicate values from any list\"\"\"\n",
    "    list1 = list(set(list1)) #use set to remove duplicates \n",
    "    return list1\n",
    "#remove_dup_list(ocean_animals)\n",
    "#remove_dup_list(sports)\n",
    "\n",
    "print(set(ocean_animals))"
   ]
  }
 ],
 "metadata": {
  "kernelspec": {
   "display_name": "Python 3",
   "language": "python",
   "name": "python3"
  },
  "language_info": {
   "codemirror_mode": {
    "name": "ipython",
    "version": 3
   },
   "file_extension": ".py",
   "mimetype": "text/x-python",
   "name": "python",
   "nbconvert_exporter": "python",
   "pygments_lexer": "ipython3",
   "version": "3.11.5"
  }
 },
 "nbformat": 4,
 "nbformat_minor": 2
}
